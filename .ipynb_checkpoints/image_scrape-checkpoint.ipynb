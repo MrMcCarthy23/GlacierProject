{
 "cells": [
  {
   "cell_type": "code",
   "execution_count": 19,
   "metadata": {},
   "outputs": [
    {
     "name": "stdout",
     "output_type": "stream",
     "text": [
      "Requirement already satisfied: selenium in c:\\users\\mark1\\anaconda3\\lib\\site-packages (3.141.0)\n",
      "Requirement already satisfied: urllib3 in c:\\users\\mark1\\anaconda3\\lib\\site-packages (from selenium) (1.25.9)\n"
     ]
    }
   ],
   "source": [
    "#install and import commands\n",
    "!pip install selenium\n",
    "from selenium import webdriver as wb\n",
    "import time"
   ]
  },
  {
   "cell_type": "code",
   "execution_count": 26,
   "metadata": {},
   "outputs": [],
   "source": [
    "#Selenium package opens a browser, goes to the link in driver.get, then takes a screenshot and saves to filename loc w/ timestmp\n",
    "\n",
    "#open browser\n",
    "driver = wb.Chrome()\n",
    "\n",
    "#create timestamp\n",
    "tmp = time.strftime(\"%Y%m%d-%H%M\")\n",
    "\n",
    "#create file path w/ tmp\n",
    "filename = 'C:/Users/mark1/GlacierProj/Webcams/Many_Glacier_2/'+tmp+'_screenshot.png'\n",
    "\n",
    "#open link in browser\n",
    "driver.get('https://www.nps.gov/webcams-glac/mgptz.jpg?1621205263248')\n",
    "\n",
    "#take screenshot as file at filename\n",
    "driver.get_screenshot_as_file(filename)\n",
    "\n",
    "#close the browser\n",
    "driver.close()"
   ]
  }
 ],
 "metadata": {
  "kernelspec": {
   "display_name": "Python 3",
   "language": "python",
   "name": "python3"
  },
  "language_info": {
   "codemirror_mode": {
    "name": "ipython",
    "version": 3
   },
   "file_extension": ".py",
   "mimetype": "text/x-python",
   "name": "python",
   "nbconvert_exporter": "python",
   "pygments_lexer": "ipython3",
   "version": "3.8.3"
  }
 },
 "nbformat": 4,
 "nbformat_minor": 4
}
